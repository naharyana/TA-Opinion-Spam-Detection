{
 "cells": [
  {
   "cell_type": "markdown",
   "metadata": {},
   "source": [
    "### 1) Duplicate content detection on Screaming Frog Data With Shingling"
   ]
  },
  {
   "cell_type": "markdown",
   "metadata": {},
   "source": [
    "* pip install nltk\n",
    "   * After installing open python and type:\n",
    "   * import nltk\n",
    "   * nltk.download()\n",
    "   * Load stopwords corpus.\n",
    "* pip install mmh3\n",
    "* pip install pandas\n",
    "* pip install matplotlib"
   ]
  },
  {
   "cell_type": "markdown",
   "metadata": {},
   "source": [
    "### 2) Here we import the required libraries\n",
    "If you get an error here most likely you don't have the right version of Python, or one of the modules is not installed. Python should tell you you are missing a module and you can most often just type \"!pip install [modulename]\""
   ]
  },
  {
   "cell_type": "code",
   "execution_count": 1,
   "metadata": {},
   "outputs": [],
   "source": [
    "import mmh3\n",
    "from nltk import ngrams\n",
    "import pandas\n",
    "import random\n",
    "import matplotlib.pyplot as plt"
   ]
  },
  {
   "cell_type": "code",
   "execution_count": 2,
   "metadata": {},
   "outputs": [
    {
     "ename": "NameError",
     "evalue": "name 'df' is not defined",
     "output_type": "error",
     "traceback": [
      "\u001b[1;31m---------------------------------------------------------------------------\u001b[0m",
      "\u001b[1;31mNameError\u001b[0m                                 Traceback (most recent call last)",
      "\u001b[1;32m<ipython-input-2-cdc90e12447e>\u001b[0m in \u001b[0;36m<module>\u001b[1;34m()\u001b[0m\n\u001b[1;32m----> 1\u001b[1;33m \u001b[0mlist\u001b[0m\u001b[1;33m(\u001b[0m\u001b[0mdf\u001b[0m\u001b[1;33m.\u001b[0m\u001b[0mcolumns\u001b[0m\u001b[1;33m.\u001b[0m\u001b[0mvalues\u001b[0m\u001b[1;33m)\u001b[0m\u001b[1;33m\u001b[0m\u001b[0m\n\u001b[0m",
      "\u001b[1;31mNameError\u001b[0m: name 'df' is not defined"
     ]
    }
   ],
   "source": [
    "list(df.columns.values)"
   ]
  },
  {
   "cell_type": "markdown",
   "metadata": {},
   "source": [
    "### 3) Load in the data. \n",
    "The data can be loaded from Screeaming Frog > internal_html.csv export after crawling a site with an extraction set to pull all text from the main content body element using XPATH or CSS Selectors. If loaded correctly you should see the columns and top five rows below when running this cell. You can use another tool to pull site content, but will need to use csv format and ensure the content column is named \"Column 1\" and the associated URL column is named \"Address\".\n"
   ]
  },
  {
   "cell_type": "code",
   "execution_count": 3,
   "metadata": {
    "scrolled": true
   },
   "outputs": [
    {
     "data": {
      "text/html": [
       "<div>\n",
       "<style scoped>\n",
       "    .dataframe tbody tr th:only-of-type {\n",
       "        vertical-align: middle;\n",
       "    }\n",
       "\n",
       "    .dataframe tbody tr th {\n",
       "        vertical-align: top;\n",
       "    }\n",
       "\n",
       "    .dataframe thead th {\n",
       "        text-align: right;\n",
       "    }\n",
       "</style>\n",
       "<table border=\"1\" class=\"dataframe\">\n",
       "  <thead>\n",
       "    <tr style=\"text-align: right;\">\n",
       "      <th></th>\n",
       "      <th>ReviewID</th>\n",
       "      <th>MemberID</th>\n",
       "      <th>Verified</th>\n",
       "      <th>RealName</th>\n",
       "      <th>ReviewOrder</th>\n",
       "      <th>ProductID</th>\n",
       "      <th>Date</th>\n",
       "      <th>Rating</th>\n",
       "      <th>HelpfulFeedbacks</th>\n",
       "      <th>Feedbacks</th>\n",
       "      <th>Title</th>\n",
       "      <th>Body</th>\n",
       "    </tr>\n",
       "  </thead>\n",
       "  <tbody>\n",
       "    <tr>\n",
       "      <th>0</th>\n",
       "      <td>600982</td>\n",
       "      <td>A3S8OV1ARSIS1</td>\n",
       "      <td>0</td>\n",
       "      <td>1</td>\n",
       "      <td>2</td>\n",
       "      <td>B0002Y5WZC</td>\n",
       "      <td>9/4/2007</td>\n",
       "      <td>5</td>\n",
       "      <td>0</td>\n",
       "      <td>3</td>\n",
       "      <td>Nice camera bag</td>\n",
       "      <td>This is a nice bag. It was too big for my need...</td>\n",
       "    </tr>\n",
       "    <tr>\n",
       "      <th>1</th>\n",
       "      <td>600960</td>\n",
       "      <td>A2T036DGT1BGY1</td>\n",
       "      <td>0</td>\n",
       "      <td>1</td>\n",
       "      <td>1</td>\n",
       "      <td>B0002Y5YFK</td>\n",
       "      <td>1/31/2007</td>\n",
       "      <td>1</td>\n",
       "      <td>0</td>\n",
       "      <td>14</td>\n",
       "      <td>Never received it.</td>\n",
       "      <td>I waited and waited for this item.  One email ...</td>\n",
       "    </tr>\n",
       "    <tr>\n",
       "      <th>2</th>\n",
       "      <td>600760</td>\n",
       "      <td>A2A10ZSC2RH4RG</td>\n",
       "      <td>0</td>\n",
       "      <td>1</td>\n",
       "      <td>1</td>\n",
       "      <td>B0002Y7GGA</td>\n",
       "      <td>10/15/2004</td>\n",
       "      <td>5</td>\n",
       "      <td>0</td>\n",
       "      <td>0</td>\n",
       "      <td>HTML 4.01 Programming Curriculum CBT Training CDs</td>\n",
       "      <td>Course Overview This curriculum presents learn...</td>\n",
       "    </tr>\n",
       "    <tr>\n",
       "      <th>3</th>\n",
       "      <td>600759</td>\n",
       "      <td>A2A10ZSC2RH4RG</td>\n",
       "      <td>0</td>\n",
       "      <td>1</td>\n",
       "      <td>1</td>\n",
       "      <td>B0002Y7WBO</td>\n",
       "      <td>10/15/2004</td>\n",
       "      <td>5</td>\n",
       "      <td>0</td>\n",
       "      <td>0</td>\n",
       "      <td>Java Enterprise Connectivity Curriculum CBT Tr...</td>\n",
       "      <td>Trunc, Course Overview This curriculum introdu...</td>\n",
       "    </tr>\n",
       "    <tr>\n",
       "      <th>4</th>\n",
       "      <td>600758</td>\n",
       "      <td>A2A10ZSC2RH4RG</td>\n",
       "      <td>0</td>\n",
       "      <td>1</td>\n",
       "      <td>1</td>\n",
       "      <td>B0002Y8HH2</td>\n",
       "      <td>10/19/2004</td>\n",
       "      <td>5</td>\n",
       "      <td>0</td>\n",
       "      <td>0</td>\n",
       "      <td>Java Servlets Curriculum CBT Training CDs</td>\n",
       "      <td>Course Overview This curriculum introduces the...</td>\n",
       "    </tr>\n",
       "  </tbody>\n",
       "</table>\n",
       "</div>"
      ],
      "text/plain": [
       "   ReviewID        MemberID  Verified  RealName  ReviewOrder   ProductID  \\\n",
       "0    600982   A3S8OV1ARSIS1         0         1            2  B0002Y5WZC   \n",
       "1    600960  A2T036DGT1BGY1         0         1            1  B0002Y5YFK   \n",
       "2    600760  A2A10ZSC2RH4RG         0         1            1  B0002Y7GGA   \n",
       "3    600759  A2A10ZSC2RH4RG         0         1            1  B0002Y7WBO   \n",
       "4    600758  A2A10ZSC2RH4RG         0         1            1  B0002Y8HH2   \n",
       "\n",
       "         Date  Rating  HelpfulFeedbacks  Feedbacks  \\\n",
       "0    9/4/2007       5                 0          3   \n",
       "1   1/31/2007       1                 0         14   \n",
       "2  10/15/2004       5                 0          0   \n",
       "3  10/15/2004       5                 0          0   \n",
       "4  10/19/2004       5                 0          0   \n",
       "\n",
       "                                               Title  \\\n",
       "0                                    Nice camera bag   \n",
       "1                                 Never received it.   \n",
       "2  HTML 4.01 Programming Curriculum CBT Training CDs   \n",
       "3  Java Enterprise Connectivity Curriculum CBT Tr...   \n",
       "4          Java Servlets Curriculum CBT Training CDs   \n",
       "\n",
       "                                                Body  \n",
       "0  This is a nice bag. It was too big for my need...  \n",
       "1  I waited and waited for this item.  One email ...  \n",
       "2  Course Overview This curriculum presents learn...  \n",
       "3  Trunc, Course Overview This curriculum introdu...  \n",
       "4  Course Overview This curriculum introduces the...  "
      ]
     },
     "execution_count": 3,
     "metadata": {},
     "output_type": "execute_result"
    }
   ],
   "source": [
    "in_file = \"Data 3000 for Shingling.csv\"\n",
    "df = pandas.read_csv(in_file)\n",
    "df = df[df['Body'] == df['Body']]\n",
    "df.reset_index(drop=True, inplace=True)\n",
    "df.head()"
   ]
  },
  {
   "cell_type": "markdown",
   "metadata": {},
   "source": [
    "### 5) These are functions that we will use.\n",
    "Code for shingling taken from https://github.com/steven-s/text-shingles"
   ]
  },
  {
   "cell_type": "code",
   "execution_count": 4,
   "metadata": {},
   "outputs": [],
   "source": [
    "def generate_random_seeds(n, seed=5):\n",
    "    random.seed(seed)\n",
    "    return random.sample(range(1, n+1), n)\n",
    "\n",
    "def jaccard_similarity(set_a, set_b):\n",
    "    return len(set_a.intersection(set_b)) / len(set_a.union(set_b))\n",
    "\n",
    "\n",
    "class ShingledText:\n",
    "    def __init__(self, text, random_seed=5, shingle_length=5, minhash_size=200):\n",
    "        split_text = text.split()\n",
    "        if len(split_text) < shingle_length:\n",
    "            raise ValueError(u'input text is too short for specified shingle length of {}'.format(shingle_length))\n",
    "\n",
    "        self.minhash = []\n",
    "        self.shingles = ngrams(split_text, shingle_length)\n",
    "\n",
    "        for hash_seed in generate_random_seeds(minhash_size, random_seed):\n",
    "            min_value = float('inf')\n",
    "            for shingle in ngrams(split_text, shingle_length):\n",
    "                value = mmh3.hash(' '.join(shingle), hash_seed)\n",
    "                min_value = min(min_value, value)\n",
    "            self.minhash.append(min_value)\n",
    "\n",
    "    def similarity(self, other_shingled_text):\n",
    "        return jaccard_similarity(set(self.minhash), \n",
    "                set(other_shingled_text.minhash))\n",
    "    \n",
    "def apply_shingled(row, df, df_shingled):\n",
    "    \n",
    "    idx = row.name\n",
    "    high = 0.0\n",
    "    match = \"\"\n",
    "    start = 0.0\n",
    "    \n",
    "    for i, s in enumerate(df_shingled):\n",
    "        if i > len(df):\n",
    "            print('i',i)\n",
    "        if idx > len(df):\n",
    "            print('idx',idx)\n",
    "                \n",
    "        if not i == idx:\n",
    "            sim = df_shingled[idx].similarity(df_shingled[i])\n",
    "            if sim > high:\n",
    "                high = sim\n",
    "                match = str(df['Body'][i])\n",
    "    \n",
    "    row['Sim Score'] = high\n",
    "    row['Sim Match'] = match\n",
    "        \n",
    "    return row\n",
    "\n",
    "    "
   ]
  },
  {
   "cell_type": "markdown",
   "metadata": {},
   "source": [
    "### 6) Build a list of shingled text\n",
    "We only want to do this one time as it takes time and we will have to re-iterate over every row to find the closest match."
   ]
  },
  {
   "cell_type": "code",
   "execution_count": null,
   "metadata": {},
   "outputs": [],
   "source": [
    "df_shingled = []\n",
    "\n",
    "# Build content shingles list\n",
    "for i, row in df.iterrows():\n",
    "    \n",
    "    text = row['Body']\n",
    "    \n",
    "    if isinstance(text, str) and len(text.split()) > 5:  \n",
    "        df_shingled.append(ShingledText(text))\n",
    "    else:\n",
    "        df_shingled.append(False)\n",
    "        \n",
    "\n",
    "    "
   ]
  },
  {
   "cell_type": "markdown",
   "metadata": {},
   "source": [
    "### 9) Apply similarity values and most similar url to dataframe"
   ]
  },
  {
   "cell_type": "code",
   "execution_count": null,
   "metadata": {
    "scrolled": false
   },
   "outputs": [],
   "source": [
    "df_comp = df.apply(apply_shingled, args=(df, df_shingled), axis=1)\n",
    "df_comp.head(5)"
   ]
  },
  {
   "cell_type": "markdown",
   "metadata": {},
   "source": [
    "### 10) Visualize your duplicate content. >.6 Should be reviewed.  1 are exact duplicates."
   ]
  },
  {
   "cell_type": "code",
   "execution_count": null,
   "metadata": {},
   "outputs": [],
   "source": [
    "import numpy as numpy"
   ]
  },
  {
   "cell_type": "code",
   "execution_count": null,
   "metadata": {},
   "outputs": [],
   "source": [
    "sims = df_comp['Sim Score'].tolist()\n",
    "a = numpy.histogram(sims)\n",
    "plt.hist(sims, bins=10, rwidth= .9)  # arguments are passed to np.histogram\n",
    "plt.title(\"Histogram of similarity values\")\n",
    "plt.show()"
   ]
  },
  {
   "cell_type": "markdown",
   "metadata": {},
   "source": [
    "### 11) Save to a file"
   ]
  },
  {
   "cell_type": "code",
   "execution_count": null,
   "metadata": {},
   "outputs": [],
   "source": [
    "#df_comp.head()\n",
    "fn1 = 'sim_data_out_2999.csv'\n",
    "df_comp.to_csv(fn1, encoding='utf-8' )"
   ]
  }
 ],
 "metadata": {
  "kernelspec": {
   "display_name": "Python 3",
   "language": "python",
   "name": "python3"
  },
  "language_info": {
   "codemirror_mode": {
    "name": "ipython",
    "version": 3
   },
   "file_extension": ".py",
   "mimetype": "text/x-python",
   "name": "python",
   "nbconvert_exporter": "python",
   "pygments_lexer": "ipython3",
   "version": "3.7.0"
  }
 },
 "nbformat": 4,
 "nbformat_minor": 2
}
